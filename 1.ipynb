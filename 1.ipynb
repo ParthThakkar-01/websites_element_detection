{
 "cells": [
  {
   "cell_type": "code",
   "execution_count": 1,
   "metadata": {},
   "outputs": [
    {
     "name": "stdout",
     "output_type": "stream",
     "text": [
      "Collecting roboflow\n",
      "  Downloading roboflow-1.1.14-py3-none-any.whl (68 kB)\n",
      "     ---------------------------------------- 69.0/69.0 kB 1.9 MB/s eta 0:00:00\n",
      "Collecting certifi==2023.7.22 (from roboflow)\n",
      "  Downloading certifi-2023.7.22-py3-none-any.whl (158 kB)\n",
      "     -------------------------------------- 158.3/158.3 kB 4.8 MB/s eta 0:00:00\n",
      "Collecting chardet==4.0.0 (from roboflow)\n",
      "  Downloading chardet-4.0.0-py2.py3-none-any.whl (178 kB)\n",
      "     ------------------------------------- 178.7/178.7 kB 10.5 MB/s eta 0:00:00\n",
      "Collecting cycler==0.10.0 (from roboflow)\n",
      "  Downloading cycler-0.10.0-py2.py3-none-any.whl (6.5 kB)\n",
      "Collecting idna==2.10 (from roboflow)\n",
      "  Downloading idna-2.10-py2.py3-none-any.whl (58 kB)\n",
      "     ---------------------------------------- 58.8/58.8 kB 3.0 MB/s eta 0:00:00\n",
      "Requirement already satisfied: kiwisolver>=1.3.1 in c:\\users\\parth\\appdata\\local\\programs\\python\\python310\\lib\\site-packages (from roboflow) (1.4.4)\n",
      "Requirement already satisfied: matplotlib in c:\\users\\parth\\appdata\\local\\programs\\python\\python310\\lib\\site-packages (from roboflow) (3.6.2)\n",
      "Requirement already satisfied: numpy>=1.18.5 in c:\\users\\parth\\appdata\\local\\programs\\python\\python310\\lib\\site-packages (from roboflow) (1.22.4)\n",
      "Collecting opencv-python-headless==4.8.0.74 (from roboflow)\n",
      "  Downloading opencv_python_headless-4.8.0.74-cp37-abi3-win_amd64.whl (38.0 MB)\n",
      "     ---------------------------------------- 38.0/38.0 MB 5.0 MB/s eta 0:00:00\n",
      "Requirement already satisfied: Pillow>=7.1.2 in c:\\users\\parth\\appdata\\local\\programs\\python\\python310\\lib\\site-packages (from roboflow) (9.3.0)\n",
      "Collecting pyparsing==2.4.7 (from roboflow)\n",
      "  Downloading pyparsing-2.4.7-py2.py3-none-any.whl (67 kB)\n",
      "     ---------------------------------------- 67.8/67.8 kB 3.6 MB/s eta 0:00:00\n",
      "Requirement already satisfied: python-dateutil in c:\\users\\parth\\appdata\\local\\programs\\python\\python310\\lib\\site-packages (from roboflow) (2.8.2)\n",
      "Collecting python-dotenv (from roboflow)\n",
      "  Downloading python_dotenv-1.0.0-py3-none-any.whl (19 kB)\n",
      "Requirement already satisfied: requests in c:\\users\\parth\\appdata\\local\\programs\\python\\python310\\lib\\site-packages (from roboflow) (2.28.2)\n",
      "Requirement already satisfied: six in c:\\users\\parth\\appdata\\local\\programs\\python\\python310\\lib\\site-packages (from roboflow) (1.16.0)\n",
      "Collecting supervision (from roboflow)\n",
      "  Downloading supervision-0.17.1-py3-none-any.whl (77 kB)\n",
      "     ---------------------------------------- 77.5/77.5 kB 4.2 MB/s eta 0:00:00\n",
      "Requirement already satisfied: urllib3>=1.26.6 in c:\\users\\parth\\appdata\\local\\programs\\python\\python310\\lib\\site-packages (from roboflow) (1.26.14)\n",
      "Requirement already satisfied: tqdm>=4.41.0 in c:\\users\\parth\\appdata\\local\\programs\\python\\python310\\lib\\site-packages (from roboflow) (4.64.1)\n",
      "Requirement already satisfied: PyYAML>=5.3.1 in c:\\users\\parth\\appdata\\local\\programs\\python\\python310\\lib\\site-packages (from roboflow) (6.0)\n",
      "Collecting requests-toolbelt (from roboflow)\n",
      "  Downloading requests_toolbelt-1.0.0-py2.py3-none-any.whl (54 kB)\n",
      "     ---------------------------------------- 54.5/54.5 kB ? eta 0:00:00\n",
      "Collecting python-magic (from roboflow)\n",
      "  Downloading python_magic-0.4.27-py2.py3-none-any.whl (13 kB)\n",
      "Requirement already satisfied: colorama in c:\\users\\parth\\appdata\\roaming\\python\\python310\\site-packages (from tqdm>=4.41.0->roboflow) (0.4.5)\n",
      "Requirement already satisfied: contourpy>=1.0.1 in c:\\users\\parth\\appdata\\local\\programs\\python\\python310\\lib\\site-packages (from matplotlib->roboflow) (1.0.6)\n",
      "Requirement already satisfied: fonttools>=4.22.0 in c:\\users\\parth\\appdata\\local\\programs\\python\\python310\\lib\\site-packages (from matplotlib->roboflow) (4.38.0)\n",
      "Requirement already satisfied: packaging>=20.0 in c:\\users\\parth\\appdata\\roaming\\python\\python310\\site-packages (from matplotlib->roboflow) (21.3)\n",
      "Requirement already satisfied: charset-normalizer<4,>=2 in c:\\users\\parth\\appdata\\local\\programs\\python\\python310\\lib\\site-packages (from requests->roboflow) (3.0.1)\n",
      "Collecting Pillow>=7.1.2 (from roboflow)\n",
      "  Downloading pillow-10.2.0-cp310-cp310-win_amd64.whl (2.6 MB)\n",
      "     ---------------------------------------- 2.6/2.6 MB 6.2 MB/s eta 0:00:00\n",
      "Requirement already satisfied: scipy>=1.9.0 in c:\\users\\parth\\appdata\\local\\programs\\python\\python310\\lib\\site-packages (from supervision->roboflow) (1.9.1)\n",
      "Installing collected packages: python-magic, python-dotenv, pyparsing, Pillow, opencv-python-headless, idna, cycler, chardet, certifi, requests-toolbelt, supervision, roboflow\n",
      "  Attempting uninstall: pyparsing\n",
      "    Found existing installation: pyparsing 3.0.9\n",
      "    Uninstalling pyparsing-3.0.9:\n",
      "      Successfully uninstalled pyparsing-3.0.9\n",
      "  Attempting uninstall: Pillow\n",
      "    Found existing installation: Pillow 9.3.0\n",
      "    Uninstalling Pillow-9.3.0:\n",
      "      Successfully uninstalled Pillow-9.3.0\n",
      "  Attempting uninstall: idna\n",
      "    Found existing installation: idna 3.4\n",
      "    Uninstalling idna-3.4:\n",
      "      Successfully uninstalled idna-3.4\n",
      "  Attempting uninstall: cycler\n",
      "    Found existing installation: cycler 0.11.0\n",
      "    Uninstalling cycler-0.11.0:\n",
      "      Successfully uninstalled cycler-0.11.0\n",
      "  Attempting uninstall: certifi\n",
      "    Found existing installation: certifi 2022.12.7\n",
      "    Uninstalling certifi-2022.12.7:\n",
      "      Successfully uninstalled certifi-2022.12.7\n",
      "Successfully installed Pillow-10.2.0 certifi-2023.7.22 chardet-4.0.0 cycler-0.10.0 idna-2.10 opencv-python-headless-4.8.0.74 pyparsing-2.4.7 python-dotenv-1.0.0 python-magic-0.4.27 requests-toolbelt-1.0.0 roboflow-1.1.14 supervision-0.17.1\n"
     ]
    },
    {
     "name": "stderr",
     "output_type": "stream",
     "text": [
      "\n",
      "[notice] A new release of pip is available: 23.1.2 -> 23.3.2\n",
      "[notice] To update, run: python.exe -m pip install --upgrade pip\n"
     ]
    }
   ],
   "source": [
    "! pip install roboflow #installing roboflow for using pretrained model"
   ]
  },
  {
   "cell_type": "code",
   "execution_count": 12,
   "metadata": {},
   "outputs": [
    {
     "name": "stdout",
     "output_type": "stream",
     "text": [
      "loading Roboflow workspace...\n",
      "loading Roboflow project...\n",
      "{'predictions': [{'x': 219.5, 'y': 429.5, 'width': 321.0, 'height': 55.0, 'confidence': 0.911001443862915, 'class': 'logo', 'class_confidence': None, 'class_id': 5, 'tracker_id': None, 'image_path': '1.jpg', 'prediction_type': 'ObjectDetectionModel'}, {'x': 691.5, 'y': 502.5, 'width': 257.0, 'height': 49.0, 'confidence': 0.9060222506523132, 'class': 'button', 'class_confidence': None, 'class_id': 0, 'tracker_id': None, 'image_path': '1.jpg', 'prediction_type': 'ObjectDetectionModel'}, {'x': 1640.0, 'y': 254.0, 'width': 340.0, 'height': 48.0, 'confidence': 0.8859921097755432, 'class': 'input field', 'class_confidence': None, 'class_id': 4, 'tracker_id': None, 'image_path': '1.jpg', 'prediction_type': 'ObjectDetectionModel'}, {'x': 694.0, 'y': 82.0, 'width': 236.0, 'height': 44.0, 'confidence': 0.8276829719543457, 'class': 'logo', 'class_confidence': None, 'class_id': 5, 'tracker_id': None, 'image_path': '1.jpg', 'prediction_type': 'ObjectDetectionModel'}, {'x': 1164.5, 'y': 392.5, 'width': 245.0, 'height': 25.0, 'confidence': 0.8149294853210449, 'class': 'input field', 'class_confidence': None, 'class_id': 4, 'tracker_id': None, 'image_path': '1.jpg', 'prediction_type': 'ObjectDetectionModel'}, {'x': 1172.0, 'y': 597.5, 'width': 258.0, 'height': 47.0, 'confidence': 0.7937318086624146, 'class': 'button', 'class_confidence': None, 'class_id': 0, 'tracker_id': None, 'image_path': '1.jpg', 'prediction_type': 'ObjectDetectionModel'}, {'x': 689.5, 'y': 392.5, 'width': 249.0, 'height': 25.0, 'confidence': 0.7181822657585144, 'class': 'input field', 'class_confidence': None, 'class_id': 4, 'tracker_id': None, 'image_path': '1.jpg', 'prediction_type': 'ObjectDetectionModel'}, {'x': 1642.0, 'y': 444.5, 'width': 110.0, 'height': 111.0, 'confidence': 0.7096410989761353, 'class': 'button', 'class_confidence': None, 'class_id': 0, 'tracker_id': None, 'image_path': '1.jpg', 'prediction_type': 'ObjectDetectionModel'}, {'x': 1161.5, 'y': 82.5, 'width': 237.0, 'height': 43.0, 'confidence': 0.7082371711730957, 'class': 'logo', 'class_confidence': None, 'class_id': 5, 'tracker_id': None, 'image_path': '1.jpg', 'prediction_type': 'ObjectDetectionModel'}, {'x': 1164.5, 'y': 329.5, 'width': 241.0, 'height': 19.0, 'confidence': 0.6411116719245911, 'class': 'input field', 'class_confidence': None, 'class_id': 4, 'tracker_id': None, 'image_path': '1.jpg', 'prediction_type': 'ObjectDetectionModel'}, {'x': 1777.0, 'y': 444.5, 'width': 110.0, 'height': 111.0, 'confidence': 0.6237432956695557, 'class': 'button', 'class_confidence': None, 'class_id': 0, 'tracker_id': None, 'image_path': '1.jpg', 'prediction_type': 'ObjectDetectionModel'}, {'x': 1504.5, 'y': 444.0, 'width': 109.0, 'height': 112.0, 'confidence': 0.5940467715263367, 'class': 'button', 'class_confidence': None, 'class_id': 0, 'tracker_id': None, 'image_path': '1.jpg', 'prediction_type': 'ObjectDetectionModel'}, {'x': 1549.5, 'y': 653.0, 'width': 155.0, 'height': 168.0, 'confidence': 0.540695071220398, 'class': 'button', 'class_confidence': None, 'class_id': 0, 'tracker_id': None, 'image_path': '1.jpg', 'prediction_type': 'ObjectDetectionModel'}, {'x': 1751.0, 'y': 640.0, 'width': 154.0, 'height': 146.0, 'confidence': 0.4729951322078705, 'class': 'button', 'class_confidence': None, 'class_id': 0, 'tracker_id': None, 'image_path': '1.jpg', 'prediction_type': 'ObjectDetectionModel'}, {'x': 687.0, 'y': 330.0, 'width': 236.0, 'height': 18.0, 'confidence': 0.39894795417785645, 'class': 'input field', 'class_confidence': None, 'class_id': 4, 'tracker_id': None, 'image_path': '1.jpg', 'prediction_type': 'ObjectDetectionModel'}, {'x': 1167.0, 'y': 463.0, 'width': 252.0, 'height': 32.0, 'confidence': 0.2858564853668213, 'class': 'input field', 'class_confidence': None, 'class_id': 4, 'tracker_id': None, 'image_path': '1.jpg', 'prediction_type': 'ObjectDetectionModel'}, {'x': 633.5, 'y': 249.0, 'width': 135.0, 'height': 44.0, 'confidence': 0.15133881568908691, 'class': 'button', 'class_confidence': None, 'class_id': 0, 'tracker_id': None, 'image_path': '1.jpg', 'prediction_type': 'ObjectDetectionModel'}, {'x': 1229.5, 'y': 249.0, 'width': 143.0, 'height': 46.0, 'confidence': 0.028642505407333374, 'class': 'button', 'class_confidence': None, 'class_id': 0, 'tracker_id': None, 'image_path': '1.jpg', 'prediction_type': 'ObjectDetectionModel'}, {'x': 1126.0, 'y': 5.0, 'width': 252.0, 'height': 10.0, 'confidence': 0.01878148317337036, 'class': 'logo', 'class_confidence': None, 'class_id': 5, 'tracker_id': None, 'image_path': '1.jpg', 'prediction_type': 'ObjectDetectionModel'}, {'x': 1162.5, 'y': 111.5, 'width': 255.0, 'height': 33.0, 'confidence': 0.016432106494903564, 'class': 'logo', 'class_confidence': None, 'class_id': 5, 'tracker_id': None, 'image_path': '1.jpg', 'prediction_type': 'ObjectDetectionModel'}, {'x': 649.5, 'y': 5.0, 'width': 265.0, 'height': 10.0, 'confidence': 0.011527389287948608, 'class': 'logo', 'class_confidence': None, 'class_id': 5, 'tracker_id': None, 'image_path': '1.jpg', 'prediction_type': 'ObjectDetectionModel'}], 'image': {'width': '1855', 'height': '862'}}\n"
     ]
    }
   ],
   "source": [
    "# Using a pretrained model from roboflow\n",
    "\n",
    "from roboflow import Roboflow\n",
    "rf = Roboflow(api_key=\"83OaPHw9MUGwaZxVxBm7\")#api key \n",
    "project = rf.workspace().project(\"webpage-d5pio\")#model name\n",
    "model = project.version(3).model#version of the model\n",
    "# 1.jpg = input image               prediction = output\n",
    "# infer on a local image\n",
    "print(model.predict(\"1.jpg\", confidence=0, overlap=30).json())#updation of confidence and  overlap value according to your need\n",
    "\n",
    "# visualize your prediction\n",
    "model.predict(\"1.jpg\", confidence=0, overlap=30).save(\"prediction.jpg\")\n"
   ]
  },
  {
   "cell_type": "code",
   "execution_count": 11,
   "metadata": {},
   "outputs": [
    {
     "name": "stdout",
     "output_type": "stream",
     "text": [
      "{'predictions': [{'x': 153.0, 'y': 280.5, 'width': 148.0, 'height': 49.0, 'confidence': 0.4517660439014435, 'class': 'button', 'class_confidence': None, 'class_id': 0, 'tracker_id': None, 'image_path': 'Untitled2.png', 'prediction_type': 'ObjectDetectionModel'}, {'x': 197.5, 'y': 102.5, 'width': 289.0, 'height': 97.0, 'confidence': 0.12139126658439636, 'class': 'logo', 'class_confidence': None, 'class_id': 5, 'tracker_id': None, 'image_path': 'Untitled2.png', 'prediction_type': 'ObjectDetectionModel'}, {'x': 359.0, 'y': 812.5, 'width': 44.0, 'height': 35.0, 'confidence': 0.06284520030021667, 'class': 'input field', 'class_confidence': None, 'class_id': 4, 'tracker_id': None, 'image_path': 'Untitled2.png', 'prediction_type': 'ObjectDetectionModel'}, {'x': 245.5, 'y': 538.5, 'width': 197.0, 'height': 49.0, 'confidence': 0.02411392331123352, 'class': 'button', 'class_confidence': None, 'class_id': 0, 'tracker_id': None, 'image_path': 'Untitled2.png', 'prediction_type': 'ObjectDetectionModel'}, {'x': 198.5, 'y': 344.5, 'width': 221.0, 'height': 61.0, 'confidence': 0.019790321588516235, 'class': 'button', 'class_confidence': None, 'class_id': 0, 'tracker_id': None, 'image_path': 'Untitled2.png', 'prediction_type': 'ObjectDetectionModel'}, {'x': 287.0, 'y': 456.5, 'width': 108.0, 'height': 45.0, 'confidence': 0.016968488693237305, 'class': 'button', 'class_confidence': None, 'class_id': 0, 'tracker_id': None, 'image_path': 'Untitled2.png', 'prediction_type': 'ObjectDetectionModel'}, {'x': 195.0, 'y': 402.5, 'width': 218.0, 'height': 75.0, 'confidence': 0.01178857684135437, 'class': 'button', 'class_confidence': None, 'class_id': 0, 'tracker_id': None, 'image_path': 'Untitled2.png', 'prediction_type': 'ObjectDetectionModel'}], 'image': {'width': '428', 'height': '926'}}\n"
     ]
    }
   ],
   "source": [
    "# infer on a local image\n",
    "print(model.predict(\"Untitled2.png\", confidence=0, overlap=30).json())#updation of confidence and  overlap value according to your need\n",
    "\n",
    "# visualize your prediction\n",
    "model.predict(\"Untitled2.png\", confidence=0, overlap=30).save(\"prediction11.jpg\")"
   ]
  }
 ],
 "metadata": {
  "kernelspec": {
   "display_name": "Python 3",
   "language": "python",
   "name": "python3"
  },
  "language_info": {
   "codemirror_mode": {
    "name": "ipython",
    "version": 3
   },
   "file_extension": ".py",
   "mimetype": "text/x-python",
   "name": "python",
   "nbconvert_exporter": "python",
   "pygments_lexer": "ipython3",
   "version": "3.10.1"
  }
 },
 "nbformat": 4,
 "nbformat_minor": 2
}
